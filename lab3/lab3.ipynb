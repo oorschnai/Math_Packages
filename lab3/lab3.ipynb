{
 "cells": [
  {
   "cell_type": "markdown",
   "id": "9997a868",
   "metadata": {},
   "source": [
    "# Лабораторная работа №3  \n",
    "Выполнила студентка гр. 9382 Сорочина Мария, вариант 17.  \n",
    "\n",
    "## Цель работы.  \n",
    "Практическое применение библиотеки символьных вычислений Python\n",
    "(SymPy) для решения задач дискретной математики и математической логики.\n",
    "\n",
    "## Задачи лабораторной работы\n",
    "1. Решить свой вариант диофантова уравнения.\n",
    "2. Имея открытую часть ключа RSA найти соответствующую закрытую часть и расшифровать кодированное слово.\n",
    "3. Записать в формате ДНФ и КНФ булеву функцию, заданную своим аналитическим выражением.\n",
    "\n",
    "### 1. Решить диофантово уравнение. \n",
    "Вариант 37.\n",
    "1. Решить диофантово уравнение 3952x − 3439y = −38"
   ]
  },
  {
   "cell_type": "code",
   "execution_count": 1,
   "id": "10ef7fd4",
   "metadata": {},
   "outputs": [
    {
     "data": {
      "text/plain": [
       "{(181*t_0 + 134, 208*t_0 + 154)}"
      ]
     },
     "execution_count": 1,
     "metadata": {},
     "output_type": "execute_result"
    }
   ],
   "source": [
    "#!pip install sympy \n",
    "import sympy\n",
    "from sympy import sympify, symbols\n",
    "from sympy.solvers.diophantine import diophantine\n",
    "\n",
    "diophantine(sympify(\"3952*x - 3439*y +38\"))"
   ]
  },
  {
   "cell_type": "markdown",
   "id": "925c5a8c",
   "metadata": {},
   "source": [
    "### 2. Имея открытую часть ключа RSA найти соответствующую закрытую часть и расшифровать кодированное слово.\n",
    "15. Русское слово из четырех букв закодировано при помощи алгоритма RSA открытым ключом (e = 11, m = 34).\n",
    "Шифрованное сообщение имеет вид (21; 8; 24; 12). Подберите закрытую часть ключа и прочитайте исходное слово.\n",
    "Буквам русского алфавита соответсвуют числа в диапазоне от 2 до 32 (исключены буквы “e” и “ъ”)."
   ]
  },
  {
   "cell_type": "code",
   "execution_count": 2,
   "id": "44b0d568",
   "metadata": {},
   "outputs": [
    {
     "name": "stdout",
     "output_type": "stream",
     "text": [
      "21 \t 13 \t л\n",
      "8 \t 2 \t а\n",
      "24 \t 20 \t т\n",
      "12 \t 28 \t ы\n"
     ]
    }
   ],
   "source": [
    "from sympy.crypto.crypto import decipher_rsa, encipher_rsa\n",
    "from sympy.crypto.crypto import rsa_public_key, rsa_private_key\n",
    "p, q, e = 2, 17, 11;\n",
    "prk = rsa_private_key(p, q, e)\n",
    "puk = rsa_public_key(p, q, e)\n",
    "\n",
    "alphabet = [0, 0, 'а', 'б', 'в', 'г', 'д', 'е', 'ж', 'з', 'и', 'й', 'к', 'л', 'м', 'н', 'о', 'п', 'р', 'с', 'т', 'у', 'ф', 'х', 'ц', 'ч', 'ш', 'щ', 'ы', 'ь', 'э', 'ю', 'я']\n",
    "\n",
    "#x = [13, 2, 20, 28];\n",
    "#for i in x:\n",
    "#    print(i, \"\\t\", encipher_rsa(i, puk))\n",
    "\n",
    "word = [21, 8, 24, 12];\n",
    "for i in word:\n",
    "    print(i, \"\\t\", decipher_rsa(i, prk), \"\\t\", alphabet[decipher_rsa(i, prk)])"
   ]
  },
  {
   "cell_type": "markdown",
   "id": "456bb869",
   "metadata": {},
   "source": [
    "### 3. Записать в формате ДНФ и КНФ булеву функцию, заданную своим аналитическим выражением.\n",
    "Вариант 47.\n",
    "f(x, y, z) = ((x xor z) ∨ (zy))(x ∨ (y xor x)):\n"
   ]
  },
  {
   "cell_type": "code",
   "execution_count": 3,
   "id": "a013f99c",
   "metadata": {},
   "outputs": [
    {
     "name": "stdout",
     "output_type": "stream",
     "text": [
      "DNF:  (y & z) | (x & ~z)\n",
      "CNF:  (x | z) & (y | ~z)\n"
     ]
    }
   ],
   "source": [
    "expr = sympify(\"((x ^ z) | (z & y)) & (x | (y ^ x))\", convert_xor=False)\n",
    "expr_minDNF = sympy.to_dnf(expr, simplify=True)\n",
    "expr_minCNF = sympy.to_cnf(expr, simplify=True)\n",
    "print(\"DNF: \", expr_minDNF)\n",
    "print(\"CNF: \", expr_minCNF)\n"
   ]
  },
  {
   "cell_type": "markdown",
   "id": "aeaf6984",
   "metadata": {},
   "source": [
    "## Выводы.\n",
    "В ходе выполнения лабораторной работы были подробно изучены некоторые функции библиотеки sympy для решения задач дискретной математики и математической логики."
   ]
  }
 ],
 "metadata": {
  "kernelspec": {
   "display_name": "Python 3 (ipykernel)",
   "language": "python",
   "name": "python3"
  },
  "language_info": {
   "codemirror_mode": {
    "name": "ipython",
    "version": 3
   },
   "file_extension": ".py",
   "mimetype": "text/x-python",
   "name": "python",
   "nbconvert_exporter": "python",
   "pygments_lexer": "ipython3",
   "version": "3.8.10"
  }
 },
 "nbformat": 4,
 "nbformat_minor": 5
}
